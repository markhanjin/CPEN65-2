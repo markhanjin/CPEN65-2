{
  "nbformat": 4,
  "nbformat_minor": 0,
  "metadata": {
    "colab": {
      "provenance": [],
      "authorship_tag": "ABX9TyOqzXLZjGDAbrh65WD4c92E",
      "include_colab_link": true
    },
    "kernelspec": {
      "name": "python3",
      "display_name": "Python 3"
    },
    "language_info": {
      "name": "python"
    }
  },
  "cells": [
    {
      "cell_type": "markdown",
      "metadata": {
        "id": "view-in-github",
        "colab_type": "text"
      },
      "source": [
        "<a href=\"https://colab.research.google.com/github/markhanjin/CPEN65-2/blob/main/Activity1.ipynb\" target=\"_parent\"><img src=\"https://colab.research.google.com/assets/colab-badge.svg\" alt=\"Open In Colab\"/></a>"
      ]
    },
    {
      "cell_type": "code",
      "execution_count": 1,
      "metadata": {
        "colab": {
          "base_uri": "https://localhost:8080/"
        },
        "id": "RhxdukjwAR8O",
        "outputId": "803dc972-632c-45e7-a012-278d21cb55ad"
      },
      "outputs": [
        {
          "output_type": "stream",
          "name": "stdout",
          "text": [
            "Enter the radius of the circle:4\n",
            "The area of the circle is 50.24\n"
          ]
        }
      ],
      "source": [
        "#Create a Python program that computes the area of a circle\n",
        "#Area = pi * r^2\n",
        "pi = 3.14\n",
        "r = float(input(\"Enter the radius of the circle:\"))\n",
        "Area = pi*(r*r)\n",
        "print(\"The area of the circle is\" + \" \" + str(Area))"
      ]
    }
  ]
}