{
  "nbformat": 4,
  "nbformat_minor": 0,
  "metadata": {
    "colab": {
      "provenance": [],
      "authorship_tag": "ABX9TyP7PKW+R2x5ZtuwZnvm3lBU",
      "include_colab_link": true
    },
    "kernelspec": {
      "name": "python3",
      "display_name": "Python 3"
    },
    "language_info": {
      "name": "python"
    }
  },
  "cells": [
    {
      "cell_type": "markdown",
      "metadata": {
        "id": "view-in-github",
        "colab_type": "text"
      },
      "source": [
        "<a href=\"https://colab.research.google.com/github/markhanjin/CPEN65-2/blob/main/Stacks_and_Queues.ipynb\" target=\"_parent\"><img src=\"https://colab.research.google.com/assets/colab-badge.svg\" alt=\"Open In Colab\"/></a>"
      ]
    },
    {
      "cell_type": "code",
      "execution_count": 1,
      "metadata": {
        "colab": {
          "base_uri": "https://localhost:8080/"
        },
        "id": "msjRAWzmNk3N",
        "outputId": "14c8befd-21c9-46fb-dd99-18198f5e2c77"
      },
      "outputs": [
        {
          "output_type": "stream",
          "name": "stdout",
          "text": [
            "[1, 2, 3]\n",
            "[1, 2]\n",
            "[1]\n",
            "[]\n"
          ]
        }
      ],
      "source": [
        "class Stack:\n",
        "  def __init__(self):\n",
        "    self.stack = []\n",
        "  \n",
        "  def push(self,dataval):\n",
        "    if dataval not in self.stack:\n",
        "      return self.stack.append(dataval)\n",
        "    else:\n",
        "      return False\n",
        "  def pop(self):\n",
        "    if len(self.stack)<=0:\n",
        "      return \"Stack is empty\"\n",
        "    else:\n",
        "      return self.stack.pop()\n",
        "\n",
        "AStack = Stack()\n",
        "AStack.push(1)\n",
        "AStack.push(2)\n",
        "AStack.push(3)\n",
        "\n",
        "print(AStack.stack)\n",
        "\n",
        "AStack.pop()\n",
        "print(AStack.stack)\n",
        "AStack.pop()\n",
        "print(AStack.stack)\n",
        "AStack.pop()\n",
        "print(AStack.stack)"
      ]
    },
    {
      "cell_type": "code",
      "source": [
        "#Application 1\n",
        "\n",
        "#implement the above program by Queues Data Structure (enqueue and dequeue/FIFO principle)"
      ],
      "metadata": {
        "id": "DWBeBnFkN57W"
      },
      "execution_count": null,
      "outputs": []
    }
  ]
}