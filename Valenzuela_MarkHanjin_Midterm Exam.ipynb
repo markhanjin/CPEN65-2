{
  "nbformat": 4,
  "nbformat_minor": 0,
  "metadata": {
    "colab": {
      "provenance": [],
      "authorship_tag": "ABX9TyPD04Drg2BpypwhCF6/kjLq",
      "include_colab_link": true
    },
    "kernelspec": {
      "name": "python3",
      "display_name": "Python 3"
    },
    "language_info": {
      "name": "python"
    }
  },
  "cells": [
    {
      "cell_type": "markdown",
      "metadata": {
        "id": "view-in-github",
        "colab_type": "text"
      },
      "source": [
        "<a href=\"https://colab.research.google.com/github/markhanjin/CPEN65-2/blob/main/Midterms.ipynb\" target=\"_parent\"><img src=\"https://colab.research.google.com/assets/colab-badge.svg\" alt=\"Open In Colab\"/></a>"
      ]
    },
    {
      "cell_type": "code",
      "source": [
        "#1\n",
        "\n",
        "import array as arr\n",
        "numbers = arr.array('i',[1, 2, 3, 4, 5, 6, 7, 8, 9, 10])\n",
        "for index , val in enumerate(numbers):\n",
        "  print(index,val)\n",
        "ans = sum(numbers)\n",
        "print(\"Sum ans)"
      ],
      "metadata": {
        "colab": {
          "base_uri": "https://localhost:8080/"
        },
        "id": "j1oLChM_BsGp",
        "outputId": "4fe333de-8f10-49e3-d48a-ca81ac52a6b5"
      },
      "execution_count": 14,
      "outputs": [
        {
          "output_type": "stream",
          "name": "stdout",
          "text": [
            "0 1\n",
            "1 2\n",
            "2 3\n",
            "3 4\n",
            "4 5\n",
            "5 6\n",
            "6 7\n",
            "7 8\n",
            "8 9\n",
            "9 10\n",
            "55\n"
          ]
        }
      ]
    },
    {
      "cell_type": "code",
      "source": [
        "#2\n",
        "\n",
        "import array as arr\n",
        "numbers = arr.array('i',[1, 2, 3, 4, 5, 6, 7, 8, 9, 10])\n",
        "print(numbers)\n",
        "\n",
        "a = numbers.insert(11,11)\n",
        "print(numbers)"
      ],
      "metadata": {
        "colab": {
          "base_uri": "https://localhost:8080/"
        },
        "id": "NQ_4pKBnBt45",
        "outputId": "65d7b44e-7f7f-4812-d608-d5f1a5869901"
      },
      "execution_count": 1,
      "outputs": [
        {
          "output_type": "stream",
          "name": "stdout",
          "text": [
            "array('i', [1, 2, 3, 4, 5, 6, 7, 8, 9, 10])\n",
            "array('i', [1, 2, 3, 4, 5, 6, 7, 8, 9, 10, 11])\n"
          ]
        }
      ]
    },
    {
      "cell_type": "code",
      "source": [
        "#3\n",
        "\n",
        "import array as arr\n",
        "numbers = arr.array('i',[1, 2, 3, 4, 5, 6, 7, 8, 9, 10])\n",
        "print(numbers)\n",
        "\n",
        "a = numbers.insert(1,11)\n",
        "print(numbers)"
      ],
      "metadata": {
        "colab": {
          "base_uri": "https://localhost:8080/"
        },
        "id": "0AfX-BkrCeDu",
        "outputId": "d7c11f97-d6da-4f46-8799-16ebfd16a720"
      },
      "execution_count": 3,
      "outputs": [
        {
          "output_type": "stream",
          "name": "stdout",
          "text": [
            "array('i', [1, 2, 3, 4, 5, 6, 7, 8, 9, 10])\n",
            "array('i', [1, 11, 2, 3, 4, 5, 6, 7, 8, 9, 10])\n"
          ]
        }
      ]
    },
    {
      "cell_type": "code",
      "source": [
        "#4\n",
        "\n",
        "import array as arr\n",
        "numbers = arr.array('i',[5,4,3,2,1])\n",
        "print(numbers)\n",
        "\n",
        "numbers.reverse()\n",
        "print(numbers)"
      ],
      "metadata": {
        "colab": {
          "base_uri": "https://localhost:8080/"
        },
        "id": "ucdaDZUtC1Od",
        "outputId": "69324455-36e9-40a4-d571-1bd3e7ba7d36"
      },
      "execution_count": 5,
      "outputs": [
        {
          "output_type": "stream",
          "name": "stdout",
          "text": [
            "array('i', [5, 4, 3, 2, 1])\n",
            "array('i', [1, 2, 3, 4, 5])\n"
          ]
        }
      ]
    },
    {
      "cell_type": "code",
      "source": [
        "#5\n",
        "\n",
        "array_num = [\"5\",\"4\",\"3\",\"2\",\"1\"]\n",
        "len(array_num)\n",
        "print(len(array_num))"
      ],
      "metadata": {
        "colab": {
          "base_uri": "https://localhost:8080/"
        },
        "id": "9t9DeWWIDYX3",
        "outputId": "972903d3-820b-45a4-eeda-2b5f3e161a38"
      },
      "execution_count": 10,
      "outputs": [
        {
          "output_type": "stream",
          "name": "stdout",
          "text": [
            "5\n"
          ]
        }
      ]
    }
  ]
}
